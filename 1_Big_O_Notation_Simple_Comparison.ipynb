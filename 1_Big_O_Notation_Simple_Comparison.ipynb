{
  "nbformat": 4,
  "nbformat_minor": 0,
  "metadata": {
    "colab": {
      "name": "1 - Big-O Notation - Simple Comparison.ipynb",
      "provenance": [],
      "collapsed_sections": [],
      "authorship_tag": "ABX9TyMWyOhejD9YlnOdPWWs+OAK",
      "include_colab_link": true
    },
    "kernelspec": {
      "name": "python3",
      "display_name": "Python 3"
    }
  },
  "cells": [
    {
      "cell_type": "markdown",
      "metadata": {
        "id": "view-in-github",
        "colab_type": "text"
      },
      "source": [
        "<a href=\"https://colab.research.google.com/github/FabioFS/Time-Complexity/blob/main/1_Big_O_Notation_Simple_Comparison.ipynb\" target=\"_parent\"><img src=\"https://colab.research.google.com/assets/colab-badge.svg\" alt=\"Open In Colab\"/></a>"
      ]
    },
    {
      "cell_type": "markdown",
      "metadata": {
        "id": "sSAyWL8bNrSZ"
      },
      "source": [
        "# Big-O Notation"
      ]
    },
    {
      "cell_type": "markdown",
      "metadata": {
        "id": "QOcrzOuxObGw"
      },
      "source": [
        "\r\n",
        "\r\n",
        "*   How to compare two or much algorithms\r\n",
        "\r\n"
      ]
    },
    {
      "cell_type": "markdown",
      "metadata": {
        "id": "Q5BBcTjmVhUg"
      },
      "source": [
        "## Factorial Calculation example"
      ]
    },
    {
      "cell_type": "markdown",
      "metadata": {
        "id": "7imUwzbhUfBj"
      },
      "source": [
        "O(n) - Example 1"
      ]
    },
    {
      "cell_type": "code",
      "metadata": {
        "id": "2VZXbJ_5IVZF"
      },
      "source": [
        "# O(n)\r\n",
        "# In this first example, the number of steps performed by the algorithm will be \r\n",
        "# equal to or greater in relation to the size of the input. \r\n",
        "def my_first_sum(input):\r\n",
        "  first_sum = 0                # -> 1 step\r\n",
        "  for i in range(input + 1):   \r\n",
        "    first_sum += i             # -> n steps\r\n",
        "  return first_sum"
      ],
      "execution_count": 1,
      "outputs": []
    },
    {
      "cell_type": "code",
      "metadata": {
        "colab": {
          "base_uri": "https://localhost:8080/"
        },
        "id": "WckTJlmPVOGM",
        "outputId": "79f00246-a1ba-4649-992f-4941acab8669"
      },
      "source": [
        "%timeit my_first_sum(10)\r\n"
      ],
      "execution_count": 15,
      "outputs": [
        {
          "output_type": "stream",
          "text": [
            "The slowest run took 7.33 times longer than the fastest. This could mean that an intermediate result is being cached.\n",
            "1000000 loops, best of 5: 643 ns per loop\n"
          ],
          "name": "stdout"
        }
      ]
    },
    {
      "cell_type": "markdown",
      "metadata": {
        "id": "U2DbzM2Wbh1g"
      },
      "source": [
        "**643 ns per loop**\r\n",
        "\r\n",
        "---\r\n",
        "\r\n"
      ]
    },
    {
      "cell_type": "markdown",
      "metadata": {
        "id": "TeOP1YagWF1r"
      },
      "source": [
        "O(3) - Example 2"
      ]
    },
    {
      "cell_type": "code",
      "metadata": {
        "id": "FVBtdRGBWUU6"
      },
      "source": [
        "# O(3)\r\n",
        "# In this second example, to any size of the input, the algorithm will be exec three steps.\r\n",
        "def my_second_sum(input):\r\n",
        "  return (input*(input + 1))/2   # -> 3 setps"
      ],
      "execution_count": 3,
      "outputs": []
    },
    {
      "cell_type": "code",
      "metadata": {
        "id": "V1zz4guUXkE_",
        "colab": {
          "base_uri": "https://localhost:8080/"
        },
        "outputId": "d287b04e-f44c-47f4-ce6c-9cd3c924d4a2"
      },
      "source": [
        "%timeit my_second_sum(10)\r\n"
      ],
      "execution_count": 4,
      "outputs": [
        {
          "output_type": "stream",
          "text": [
            "The slowest run took 20.43 times longer than the fastest. This could mean that an intermediate result is being cached.\n",
            "10000000 loops, best of 5: 103 ns per loop\n"
          ],
          "name": "stdout"
        }
      ]
    },
    {
      "cell_type": "markdown",
      "metadata": {
        "id": "2v5pfaBUbt2a"
      },
      "source": [
        "**103 ns per loop**\r\n",
        "\r\n",
        "---\r\n",
        "\r\n"
      ]
    },
    {
      "cell_type": "markdown",
      "metadata": {
        "id": "ck97juHlb3Cc"
      },
      "source": [
        "https://en.wikipedia.org/wiki/Orders_of_magnitude_(time)"
      ]
    }
  ]
}