{
  "nbformat": 4,
  "nbformat_minor": 0,
  "metadata": {
    "colab": {
      "name": "Big-O Notation.ipynb",
      "provenance": [],
      "collapsed_sections": [],
      "authorship_tag": "ABX9TyM2549ShKSTMTek0p/AoZdr",
      "include_colab_link": true
    },
    "kernelspec": {
      "name": "python3",
      "display_name": "Python 3"
    }
  },
  "cells": [
    {
      "cell_type": "markdown",
      "metadata": {
        "id": "view-in-github",
        "colab_type": "text"
      },
      "source": [
        "<a href=\"https://colab.research.google.com/github/FabioFS/Time-Complexity/blob/main/Big_O_Notation.ipynb\" target=\"_parent\"><img src=\"https://colab.research.google.com/assets/colab-badge.svg\" alt=\"Open In Colab\"/></a>"
      ]
    },
    {
      "cell_type": "markdown",
      "metadata": {
        "id": "VyLIXdTRTb7H"
      },
      "source": [
        ""
      ]
    },
    {
      "cell_type": "markdown",
      "metadata": {
        "id": "sSAyWL8bNrSZ"
      },
      "source": [
        "# Big-O Notation"
      ]
    },
    {
      "cell_type": "markdown",
      "metadata": {
        "id": "QOcrzOuxObGw"
      },
      "source": [
        "\r\n",
        "\r\n",
        "*   How to compare two or much algorithms\r\n",
        "\r\n"
      ]
    },
    {
      "cell_type": "markdown",
      "metadata": {
        "id": "Q5BBcTjmVhUg"
      },
      "source": [
        "## Factorial Calculation"
      ]
    },
    {
      "cell_type": "markdown",
      "metadata": {
        "id": "7imUwzbhUfBj"
      },
      "source": [
        "O(n) - Example 1"
      ]
    },
    {
      "cell_type": "code",
      "metadata": {
        "id": "2VZXbJ_5IVZF"
      },
      "source": [
        "# O(n)\r\n",
        "# In this first example, the number of steps performed by the algorithm will be \r\n",
        "# equal to or greater in relation to the size of the input. \r\n",
        "def my_first_sum(input):\r\n",
        "  first_sum = 0                # -> 1 step\r\n",
        "  for i in range(input + 1):   # -> n setps\r\n",
        "    first_sum += i             # -> 1 step\r\n",
        "  return first_sum"
      ],
      "execution_count": 1,
      "outputs": []
    },
    {
      "cell_type": "code",
      "metadata": {
        "colab": {
          "base_uri": "https://localhost:8080/"
        },
        "id": "WckTJlmPVOGM",
        "outputId": "79f00246-a1ba-4649-992f-4941acab8669"
      },
      "source": [
        "%timeit my_first_sum(10)\r\n"
      ],
      "execution_count": 15,
      "outputs": [
        {
          "output_type": "stream",
          "text": [
            "The slowest run took 7.33 times longer than the fastest. This could mean that an intermediate result is being cached.\n",
            "1000000 loops, best of 5: 643 ns per loop\n"
          ],
          "name": "stdout"
        }
      ]
    },
    {
      "cell_type": "markdown",
      "metadata": {
        "id": "TeOP1YagWF1r"
      },
      "source": [
        "O(3) - Example 2"
      ]
    },
    {
      "cell_type": "code",
      "metadata": {
        "id": "FVBtdRGBWUU6"
      },
      "source": [
        "# O(3)\r\n",
        "# In this second example, to any size of the input, the algorithm will be exec three steps.\r\n",
        "def my_second_sum(input):\r\n",
        "  return (input*(input + 1))/2   # -> 3 setps"
      ],
      "execution_count": 11,
      "outputs": []
    },
    {
      "cell_type": "code",
      "metadata": {
        "colab": {
          "base_uri": "https://localhost:8080/"
        },
        "id": "V1zz4guUXkE_",
        "outputId": "6571eacb-714d-4310-d2f7-b6ec6ca42e13"
      },
      "source": [
        "%timeit my_second_sum(10)\r\n"
      ],
      "execution_count": 16,
      "outputs": [
        {
          "output_type": "stream",
          "text": [
            "The slowest run took 21.55 times longer than the fastest. This could mean that an intermediate result is being cached.\n",
            "10000000 loops, best of 5: 123 ns per loop\n"
          ],
          "name": "stdout"
        }
      ]
    }
  ]
}