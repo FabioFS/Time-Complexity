{
  "nbformat": 4,
  "nbformat_minor": 0,
  "metadata": {
    "colab": {
      "name": "Big-O Notation.ipynb",
      "provenance": [],
      "collapsed_sections": [],
      "authorship_tag": "ABX9TyPvIltBAZ/vueaRaSG5mKX1",
      "include_colab_link": true
    },
    "kernelspec": {
      "name": "python3",
      "display_name": "Python 3"
    }
  },
  "cells": [
    {
      "cell_type": "markdown",
      "metadata": {
        "id": "view-in-github",
        "colab_type": "text"
      },
      "source": [
        "<a href=\"https://colab.research.google.com/github/FabioFS/Time-Complexity/blob/main/Big_O_Notation.ipynb\" target=\"_parent\"><img src=\"https://colab.research.google.com/assets/colab-badge.svg\" alt=\"Open In Colab\"/></a>"
      ]
    },
    {
      "cell_type": "markdown",
      "metadata": {
        "id": "VyLIXdTRTb7H"
      },
      "source": [
        ""
      ]
    },
    {
      "cell_type": "markdown",
      "metadata": {
        "id": "sSAyWL8bNrSZ"
      },
      "source": [
        "# Big-O Notation"
      ]
    },
    {
      "cell_type": "markdown",
      "metadata": {
        "id": "QOcrzOuxObGw"
      },
      "source": [
        "\r\n",
        "\r\n",
        "*   How to compare two or much algorithms\r\n",
        "\r\n"
      ]
    },
    {
      "cell_type": "markdown",
      "metadata": {
        "id": "Q5BBcTjmVhUg"
      },
      "source": [
        "## Factorial Calculation"
      ]
    },
    {
      "cell_type": "markdown",
      "metadata": {
        "id": "7imUwzbhUfBj"
      },
      "source": [
        "O(n) - Example 1"
      ]
    },
    {
      "cell_type": "code",
      "metadata": {
        "id": "2VZXbJ_5IVZF"
      },
      "source": [
        "# O(n)\r\n",
        "# In this first example, the number of steps performed by the algorithm will be \r\n",
        "# equal to or greater in relation to the size of the input. \r\n",
        "def my_first_sum(input):\r\n",
        "  first_sum = 0                # -> 1 step\r\n",
        "  for i in range(input + 1):   # -> n setps\r\n",
        "    first_sum += i             # -> 1 step\r\n",
        "  return first_sum"
      ],
      "execution_count": 1,
      "outputs": []
    },
    {
      "cell_type": "code",
      "metadata": {
        "colab": {
          "base_uri": "https://localhost:8080/"
        },
        "id": "WckTJlmPVOGM",
        "outputId": "260cdafc-4be4-4b94-8c0e-5f978601fe00"
      },
      "source": [
        "%timeit my_first_sum(1000)\r\n",
        "print(my_first_sum(1000))"
      ],
      "execution_count": 6,
      "outputs": [
        {
          "output_type": "stream",
          "text": [
            "The slowest run took 6.44 times longer than the fastest. This could mean that an intermediate result is being cached.\n",
            "10000 loops, best of 5: 47.5 µs per loop\n",
            "500500\n"
          ],
          "name": "stdout"
        }
      ]
    },
    {
      "cell_type": "markdown",
      "metadata": {
        "id": "TeOP1YagWF1r"
      },
      "source": [
        "O(3) - Example 2"
      ]
    },
    {
      "cell_type": "code",
      "metadata": {
        "id": "FVBtdRGBWUU6"
      },
      "source": [
        "# O(3)\r\n",
        "# In this second example, to any size of the input, the algorithm will be exec three steps.\r\n",
        "def my_second_sum(input):\r\n",
        "  return (input*(input + 1))/2   # -> 3 setps"
      ],
      "execution_count": 4,
      "outputs": []
    },
    {
      "cell_type": "code",
      "metadata": {
        "colab": {
          "base_uri": "https://localhost:8080/"
        },
        "id": "V1zz4guUXkE_",
        "outputId": "ec7535ad-dbf0-4f95-dbcd-a244570a8376"
      },
      "source": [
        "%timeit my_second_sum(1000)\r\n",
        "print(my_second_sum(1000))"
      ],
      "execution_count": 7,
      "outputs": [
        {
          "output_type": "stream",
          "text": [
            "The slowest run took 20.83 times longer than the fastest. This could mean that an intermediate result is being cached.\n",
            "10000000 loops, best of 5: 153 ns per loop\n",
            "500500.0\n"
          ],
          "name": "stdout"
        }
      ]
    }
  ]
}